{
  "nbformat": 4,
  "nbformat_minor": 0,
  "metadata": {
    "colab": {
      "provenance": []
    },
    "kernelspec": {
      "name": "python3",
      "display_name": "Python 3"
    },
    "language_info": {
      "name": "python"
    }
  },
  "cells": [
    {
      "cell_type": "markdown",
      "source": [
        "**THEORY QUESTIONS**"
      ],
      "metadata": {
        "id": "D--NZe2ioZ1H"
      }
    },
    {
      "cell_type": "markdown",
      "source": [
        "1. What is Logistic Regression, and how does it differ from Linear Regression?\n",
        "\n",
        "Logistic Regression is a classification algorithm used to predict categorical outcomes (e.g., spam vs. not spam).\n",
        "\n",
        "Linear Regression is used for regression tasks, predicting continuous values.\n",
        "The key difference: Logistic Regression applies the sigmoid function to map outputs between 0 and 1, making it suitable for classification."
      ],
      "metadata": {
        "id": "whSYhTC-XwEH"
      }
    },
    {
      "cell_type": "markdown",
      "source": [
        "2. What is the mathematical equation of Logistic Regression?\n",
        "Logistic Regression predicts the probability P(Y=1∣X) that an instance belongs to the positive class. It is based on the logistic (sigmoid) function:\n",
        "P(Y=1∣X)= 1/\n",
        "1+e\n",
        "−(w\n",
        "0\n",
        "​\n",
        " +w\n",
        "1\n",
        "​\n",
        " X\n",
        "1\n",
        "​\n",
        " +w\n",
        "2\n",
        "​\n",
        " X\n",
        "2\n",
        "​\n",
        " +...+w\n",
        "n\n",
        "​\n",
        " X\n",
        "n\n",
        "​\n",
        " )\n",
        "\n",
        "\n",
        "Here,\n",
        "\n",
        "w\n",
        "0\n",
        "​\n",
        "  is the intercept (bias),\n",
        "\n",
        "w\n",
        "1\n",
        "​\n",
        " ,w\n",
        "2\n",
        "​\n",
        " ,...,w\n",
        "n\n",
        "​\n",
        "  are the weights (coefficients) of the features,\n",
        "\n",
        "X\n",
        "1\n",
        "​\n",
        " ,X\n",
        "2\n",
        "​\n",
        " ,...,X\n",
        "n\n",
        "​\n",
        "  are the feature values,\n",
        "\n",
        "e is the Euler’s number (~2.718),\n",
        "\n",
        "The function outputs a probability between 0 and 1.\n",
        "\n",
        "The decision rule is:\n",
        "\n",
        "If P(Y=1∣X)≥0.5, classify as positive (1).\n",
        "\n",
        "Otherwise, classify as negative (0)."
      ],
      "metadata": {
        "id": "nzUhcLXCX64s"
      }
    },
    {
      "cell_type": "markdown",
      "source": [
        "3. Why do we use the Sigmoid function in Logistic Regression?\n",
        "\n",
        "The Sigmoid function is used because:\n",
        "\n",
        "It converts any real-valued input into a probability range (0 to 1).\n",
        "\n",
        "It helps interpret the output as a probability for binary classification.\n",
        "\n",
        "It is differentiable, making it useful for optimization using gradient descent."
      ],
      "metadata": {
        "id": "72qYpm7AX67p"
      }
    },
    {
      "cell_type": "markdown",
      "source": [
        "4. What is the cost function used in Logistic Regression?\n",
        "\n",
        "Logistic Regression uses the Log Loss (Binary Cross-Entropy) Cost Function:\n",
        "\n",
        "𝐽\n",
        "(\n",
        "𝑤\n",
        ")\n",
        "=\n",
        "−\n",
        "1/\n",
        "𝑚\n",
        "∑(i=1 to m)\n",
        "[\n",
        "𝑦\n",
        "𝑖\n",
        "log\n",
        "⁡\n",
        "(\n",
        "𝑦\n",
        "^\n",
        "𝑖\n",
        ")\n",
        "+\n",
        "(\n",
        "1\n",
        "−\n",
        "𝑦\n",
        "𝑖\n",
        ")\n",
        "log\n",
        "⁡\n",
        "(\n",
        "1\n",
        "−\n",
        "𝑦\n",
        "^\n",
        "𝑖\n",
        ")\n",
        "]\n",
        "\n",
        "Where:\n",
        "h\n",
        "θ\n",
        "​\n",
        " (x) is the predicted probability.\n",
        "\n",
        "𝑦\n",
        "𝑖\n",
        "  is the actual class label (0 or 1).\n",
        "\n",
        "m is the number of samples.\n"
      ],
      "metadata": {
        "id": "_A_CSsIXX6-E"
      }
    },
    {
      "cell_type": "markdown",
      "source": [
        "5. What is Regularization in Logistic Regression? Why is it needed?\n",
        "\n",
        "Regularization prevents overfitting by adding a penalty term to the cost function:\n",
        "\n",
        "L1 (Lasso) Regularization: Adds absolute value of weights ∣β∣, leading to\n",
        "                           feature selection.\n",
        "\n",
        "L2 (Ridge) Regularization: Adds squared weights β^2, reducing large\n",
        "                           coefficients.\n",
        "                           \n",
        "It is needed to avoid overfitting and improve generalization.\n"
      ],
      "metadata": {
        "id": "CXy41OK4X7AX"
      }
    },
    {
      "cell_type": "markdown",
      "source": [
        "6. Explain the difference between Lasso, Ridge, and Elastic Net regression.\n",
        "\n",
        "Lasso (L1): Shrinks some coefficients to zero, effectively performing feature selection.\n",
        "\n",
        "Ridge (L2): Reduces all coefficients but does not make them zero.\n",
        "\n",
        "Elastic Net: A combination of L1 + L2, balancing both feature selection and weight shrinking."
      ],
      "metadata": {
        "id": "MKcroOf9X7Ch"
      }
    },
    {
      "cell_type": "markdown",
      "source": [
        "7. When should we use Elastic Net instead of Lasso or Ridge?\n",
        "\n",
        "Use Elastic Net when:\n",
        "\n",
        "There are highly correlated features (it handles them better than Lasso).\n",
        "\n",
        "The dataset has many irrelevant features (it selects features while preventing too much sparsity)."
      ],
      "metadata": {
        "id": "3PgVpkW0X7FG"
      }
    },
    {
      "cell_type": "markdown",
      "source": [
        "8. What is the impact of the regularization parameter (λ) in Logistic Regression?\n",
        "\n",
        "Higher λ (stronger regularization) → More shrinkage of coefficients, reducing overfitting.\n",
        "\n",
        "Lower λ (weaker regularization) → Allows more flexibility but may lead to overfitting.\n"
      ],
      "metadata": {
        "id": "M2f1mgePX7Hv"
      }
    },
    {
      "cell_type": "markdown",
      "source": [
        "9. What are the key assumptions of Logistic Regression?\n",
        "\n",
        "Linearity of independent variables with log-odds.\n",
        "\n",
        "No multicollinearity (high correlation between independent variables is undesirable).\n",
        "\n",
        "No extreme outliers in independent variables.\n",
        "\n",
        "Large enough sample size to ensure statistical reliability.\n"
      ],
      "metadata": {
        "id": "1srV6ckeX7LY"
      }
    },
    {
      "cell_type": "markdown",
      "source": [
        "10. What are some alternatives to Logistic Regression for classification tasks?\n",
        "\n",
        "Decision Trees\n",
        "\n",
        "Random Forest\n",
        "\n",
        "Support Vector Machines (SVM)\n",
        "\n",
        "Naïve Bayes\n",
        "\n",
        "Neural Networks"
      ],
      "metadata": {
        "id": "7yxcNsSGmq85"
      }
    },
    {
      "cell_type": "markdown",
      "source": [
        "11. What are Classification Evaluation Metrics?\n",
        "\n",
        "Accuracy – Overall correctness of predictions.\n",
        "\n",
        "Precision – How many predicted positives are actually positive.\n",
        "\n",
        "Recall (Sensitivity) – How many actual positives were correctly predicted.\n",
        "\n",
        "F1-Score – Harmonic mean of precision & recall.\n",
        "\n",
        "ROC-AUC Score – Evaluates model discrimination between classes.\n"
      ],
      "metadata": {
        "id": "zK_UILIemq_P"
      }
    },
    {
      "cell_type": "markdown",
      "source": [
        "12. How does class imbalance affect Logistic Regression?\n",
        "\n",
        "Logistic Regression assumes equal class distribution, leading to biased predictions.\n",
        "\n",
        "Solutions:\n",
        "Use weighted loss functions (give more weight to minority class).\n",
        "Resampling techniques (oversampling the minority or undersampling the majority class).\n",
        "\n",
        "Use different algorithms like Random Forest or SMOTE for balancing."
      ],
      "metadata": {
        "id": "yrtsc6gmmrBa"
      }
    },
    {
      "cell_type": "markdown",
      "source": [
        "13. What is Hyperparameter Tuning in Logistic Regression?\n",
        "\n",
        "It involves selecting the best hyperparameters, such as:\n",
        "\n",
        "Regularization strength (λ)\n",
        "\n",
        "Choice of solver (e.g., 'liblinear', 'saga')\n",
        "\n",
        "Methods:\n",
        "\n",
        "Grid Search (exhaustive search over parameters).\n",
        "\n",
        "Random Search (randomly selects parameters for efficiency)."
      ],
      "metadata": {
        "id": "B7yBBX5dmrDs"
      }
    },
    {
      "cell_type": "markdown",
      "source": [
        "14. What are different solvers in Logistic Regression? Which one should be used?\n",
        "\n",
        "liblinear – Best for small datasets, works well with L1/L2 penalties.\n",
        "\n",
        "lbfgs – Good for multi-class classification (default in Scikit-Learn).\n",
        "\n",
        "sag – Good for large datasets.\n",
        "\n",
        "saga – Supports L1/L2, works well for large-scale problems.\n"
      ],
      "metadata": {
        "id": "F-L7GmKumrGM"
      }
    },
    {
      "cell_type": "markdown",
      "source": [
        "15. How is Logistic Regression extended for multiclass classification?\n",
        "\n",
        "Two main approaches:\n",
        "\n",
        "One-vs-Rest (OvR): Trains one classifier per class vs. all others.\n",
        "\n",
        "Softmax (Multinomial Regression): Directly predicts probabilities for all classes using a generalization of the sigmoid function.\n"
      ],
      "metadata": {
        "id": "m2tf9ehwmrJs"
      }
    },
    {
      "cell_type": "markdown",
      "source": [
        "16. What are the advantages and disadvantages of Logistic Regression?\n",
        "\n",
        "Advantages:\n",
        "\n",
        "Simple and interpretable.\n",
        "\n",
        "Works well when features are linearly separable.\n",
        "\n",
        "Fast training and inference.\n",
        "\n",
        "\n",
        "Disadvantages:\n",
        "\n",
        "Assumes linear decision boundaries.\n",
        "\n",
        "Sensitive to outliers.\n",
        "\n",
        "May not perform well with high-dimensional or complex data.\n"
      ],
      "metadata": {
        "id": "T5np4HgfnZwX"
      }
    },
    {
      "cell_type": "markdown",
      "source": [
        "17. What are some use cases of Logistic Regression?\n",
        "\n",
        "Medical Diagnosis (e.g., predicting heart disease).\n",
        "\n",
        "Spam Email Detection.\n",
        "\n",
        "Customer Churn Prediction.\n",
        "\n",
        "Credit Risk Assessment.\n"
      ],
      "metadata": {
        "id": "4jbUImtwnZzm"
      }
    },
    {
      "cell_type": "markdown",
      "source": [
        "18. What is the difference between Softmax Regression and Logistic Regression?\n",
        "\n",
        "Logistic Regression is used for binary classification (0 or 1).\n",
        "\n",
        "Softmax Regression is used for multi-class classification by predicting probabilities for multiple classes."
      ],
      "metadata": {
        "id": "dVmlv7zHnZ1n"
      }
    },
    {
      "cell_type": "markdown",
      "source": [
        "19. How do we choose between One-vs-Rest (OvR) and Softmax for multiclass classification?\n",
        "\n",
        "Use OvR when classes are imbalanced or when training efficiency matters.\n",
        "\n",
        "Use Softmax when classes are balanced and interpretability is important.\n"
      ],
      "metadata": {
        "id": "kSZAt_lsnZ3Q"
      }
    },
    {
      "cell_type": "markdown",
      "source": [
        "20. How do we interpret coefficients in Logistic Regression?\n",
        "\n",
        "Each coefficient\n",
        "βi\n",
        "​ represents how a unit change in\n",
        "Xi\n",
        "  affects the log-odds of the positive class.\n",
        "\n",
        "The odds ratio can be calculated as:\n",
        "\n",
        "If e^(𝛽i) > 1 → Feature increases probability of positive class.\n",
        "\n",
        "If e^(𝛽i) < 1 -> Feature decreases probability of positive class.\n"
      ],
      "metadata": {
        "id": "3GTjoZOVnZ51"
      }
    },
    {
      "cell_type": "markdown",
      "source": [
        "**PRACTICAL QUESTIONS**"
      ],
      "metadata": {
        "id": "nvvAivwMnZ8n"
      }
    },
    {
      "cell_type": "code",
      "source": [
        "# 1. Write a Python program that loads a dataset, splits it into training and testing sets, applies Logistic\n",
        "#     Regression, and prints the model accuracy.\n",
        "\n",
        "import pandas as pd\n",
        "import numpy as np\n",
        "import matplotlib.pyplot as plt\n",
        "import seaborn as sns\n",
        "\n",
        "import warnings\n",
        "warnings.filterwarnings('ignore')\n",
        "\n",
        "from sklearn.datasets import load_iris\n",
        "data = load_iris()\n",
        "data\n",
        "\n",
        "df =  pd.DataFrame(data.data, columns = data.feature_names)\n",
        "df['target'] = data.target\n",
        "df = df[df['target'] != 2]\n",
        "\n",
        "x = df.iloc[:,:-1]\n",
        "y = df.iloc[:,-1]\n",
        "\n",
        "from sklearn.model_selection import train_test_split\n",
        "x_train, x_test, y_train, y_test = train_test_split(x,y, test_size = 0.20, random_state = 1)\n",
        "\n",
        "from sklearn.linear_model import LogisticRegression\n",
        "classifier = LogisticRegression()\n",
        "classifier.fit(x_train, y_train)\n",
        "\n",
        "y_pred = classifier.predict(x_test)\n",
        "\n",
        "from sklearn.metrics import accuracy_score\n",
        "accuracy = accuracy_score(y_test, y_pred)\n",
        "print(\"Accuracy is : \", accuracy)"
      ],
      "metadata": {
        "colab": {
          "base_uri": "https://localhost:8080/"
        },
        "id": "DA0nmu8Ssv9v",
        "outputId": "b02ae06a-949d-4ac4-9d0a-fd244754af28"
      },
      "execution_count": 1,
      "outputs": [
        {
          "output_type": "stream",
          "name": "stdout",
          "text": [
            "Accuracy is :  1.0\n"
          ]
        }
      ]
    },
    {
      "cell_type": "code",
      "source": [
        "# 2. Write a Python program to apply L1 regularization (Lasso) on a dataset using LogisticRegression(penalty='l1')\n",
        "#    and print the model accuracy.\n",
        "from sklearn.linear_model import LogisticRegression\n",
        "classifier = LogisticRegression(penalty='l1', solver='liblinear', max_iter=1000)\n",
        "\n",
        "classifier.fit(x_train, y_train)\n",
        "\n",
        "y_pred = classifier.predict(x_test)\n",
        "\n",
        "from sklearn.metrics import accuracy_score\n",
        "accuracy = accuracy_score(y_test, y_pred)\n",
        "print(\"Accuracy with L1 regularization (Lasso) is:\", accuracy)"
      ],
      "metadata": {
        "colab": {
          "base_uri": "https://localhost:8080/"
        },
        "id": "fWKVqc0HuNVf",
        "outputId": "58a37f63-24ed-4485-b3a5-aa52618fd96d"
      },
      "execution_count": 2,
      "outputs": [
        {
          "output_type": "stream",
          "name": "stdout",
          "text": [
            "Accuracy with L1 regularization (Lasso) is: 1.0\n"
          ]
        }
      ]
    },
    {
      "cell_type": "code",
      "source": [
        "# 3. Write a Python program to train Logistic Regression with L2 regularization (Ridge) using\n",
        "# LogisticRegression(penalty='l2'). Print model accuracy and coefficients\n",
        "from sklearn.linear_model import LogisticRegression\n",
        "classifier = LogisticRegression(penalty='l2', max_iter=1000)\n",
        "\n",
        "classifier.fit(x_train, y_train)\n",
        "\n",
        "y_pred = classifier.predict(x_test)\n",
        "\n",
        "from sklearn.metrics import accuracy_score\n",
        "accuracy = accuracy_score(y_test, y_pred)\n",
        "print(\"Accuracy with L2 regularization (Ridge) is:\", accuracy)\n",
        "\n",
        "coefficients = classifier.coef_\n",
        "print(\"Coefficients of the model:\")\n",
        "print(coefficients)"
      ],
      "metadata": {
        "colab": {
          "base_uri": "https://localhost:8080/"
        },
        "id": "mmgMgGhvuNZG",
        "outputId": "32e27d07-353e-4a31-fa30-00ca596b639c"
      },
      "execution_count": 3,
      "outputs": [
        {
          "output_type": "stream",
          "name": "stdout",
          "text": [
            "Accuracy with L2 regularization (Ridge) is: 1.0\n",
            "Coefficients of the model:\n",
            "[[ 0.46100411 -0.78836575  2.18624929  0.92865666]]\n"
          ]
        }
      ]
    },
    {
      "cell_type": "code",
      "source": [
        "# 4. Write a Python program to train Logistic Regression with Elastic Net Regularization (penalty='elasticnet').\n",
        "from sklearn.linear_model import LogisticRegression\n",
        "classifier = LogisticRegression(penalty='elasticnet', solver='saga', l1_ratio=0.5, max_iter=1000)\n",
        "classifier.fit(x_train, y_train)\n",
        "\n",
        "y_pred = classifier.predict(x_test)\n",
        "\n",
        "from sklearn.metrics import accuracy_score\n",
        "accuracy = accuracy_score(y_test, y_pred)\n",
        "print(\"Accuracy with Elastic Net regularization is:\", accuracy)\n",
        "\n",
        "coefficients = classifier.coef_\n",
        "print(\"Coefficients of the model:\")\n",
        "print(coefficients)\n"
      ],
      "metadata": {
        "colab": {
          "base_uri": "https://localhost:8080/"
        },
        "id": "O-MOY0Kiv28d",
        "outputId": "ea4eb1c7-438f-4b51-bcaa-5c7409cfd06f"
      },
      "execution_count": 4,
      "outputs": [
        {
          "output_type": "stream",
          "name": "stdout",
          "text": [
            "Accuracy with Elastic Net regularization is: 1.0\n",
            "Coefficients of the model:\n",
            "[[ 0.         -0.9168213   2.49726757  0.5870102 ]]\n"
          ]
        }
      ]
    },
    {
      "cell_type": "code",
      "source": [
        "# 5. Write a Python program to train a Logistic Regression model for multiclass classification using\n",
        "# multi_class='ovr'\n",
        "\n",
        "classifier = LogisticRegression(multi_class='ovr', max_iter=1000)\n",
        "classifier.fit(x_train, y_train)\n",
        "\n",
        "y_pred = classifier.predict(x_test)\n",
        "\n",
        "accuracy = accuracy_score(y_test, y_pred)\n",
        "print(\"Accuracy for multiclass classification (OvR) is:\", accuracy)"
      ],
      "metadata": {
        "colab": {
          "base_uri": "https://localhost:8080/"
        },
        "id": "GPzg9knkv2-n",
        "outputId": "0a92043c-ce07-4da7-9580-e3fa46b30bab"
      },
      "execution_count": 5,
      "outputs": [
        {
          "output_type": "stream",
          "name": "stdout",
          "text": [
            "Accuracy for multiclass classification (OvR) is: 1.0\n"
          ]
        }
      ]
    },
    {
      "cell_type": "code",
      "source": [
        "# 6.\"Write a Python program to apply GridSearchCV to tune the hyperparameters (C and penalty) of Logistic\n",
        "#      Regression. Print the best parameters and accuracy.\n",
        "\n",
        "from sklearn.model_selection import GridSearchCV\n",
        "param_grid = {\n",
        "    'C': [0.01, 0.1, 1, 10, 100],\n",
        "    'penalty': ['l1', 'l2'],\n",
        "    'solver': ['liblinear']\n",
        "}\n",
        "\n",
        "classifier = LogisticRegression(max_iter=1000)\n",
        "grid_search = GridSearchCV(classifier, param_grid, cv=5, scoring='accuracy')\n",
        "grid_search.fit(x_train, y_train)\n",
        "\n",
        "best_params = grid_search.best_params_\n",
        "best_accuracy = grid_search.best_score_\n",
        "\n",
        "print(\"Best Parameters:\", best_params)\n",
        "print(\"Best Accuracy from GridSearchCV:\", best_accuracy)\n",
        "\n",
        "y_pred = grid_search.predict(x_test)\n",
        "test_accuracy = accuracy_score(y_test, y_pred)\n",
        "print(\"Test Accuracy with Best Parameters:\", test_accuracy)"
      ],
      "metadata": {
        "colab": {
          "base_uri": "https://localhost:8080/"
        },
        "id": "jQ4kWj2tv3A7",
        "outputId": "7173dc43-112a-4689-f771-4e1fd7d94226"
      },
      "execution_count": 6,
      "outputs": [
        {
          "output_type": "stream",
          "name": "stdout",
          "text": [
            "Best Parameters: {'C': 0.01, 'penalty': 'l2', 'solver': 'liblinear'}\n",
            "Best Accuracy from GridSearchCV: 1.0\n",
            "Test Accuracy with Best Parameters: 1.0\n"
          ]
        }
      ]
    },
    {
      "cell_type": "code",
      "source": [
        "# 7. Write a Python program to evaluate Logistic Regression using Stratified K-Fold Cross-Validation. Print the\n",
        "#    average accuracy.\n",
        "from sklearn.model_selection import StratifiedKFold\n",
        "from sklearn.model_selection import cross_val_score\n",
        "classifier = LogisticRegression(max_iter=1000)\n",
        "stratified_kfold = StratifiedKFold(n_splits=5, shuffle=True, random_state=1)\n",
        "\n",
        "cv_scores = cross_val_score(classifier, x, y, cv=stratified_kfold, scoring='accuracy')\n",
        "\n",
        "average_accuracy = cv_scores.mean()\n",
        "print(\"Average Accuracy from Stratified K-Fold Cross-Validation:\", average_accuracy)"
      ],
      "metadata": {
        "colab": {
          "base_uri": "https://localhost:8080/"
        },
        "id": "4nW03jn1v3DS",
        "outputId": "bd89f336-2d7b-4ce3-dd6e-6344bb133e92"
      },
      "execution_count": 7,
      "outputs": [
        {
          "output_type": "stream",
          "name": "stdout",
          "text": [
            "Average Accuracy from Stratified K-Fold Cross-Validation: 1.0\n"
          ]
        }
      ]
    },
    {
      "cell_type": "code",
      "source": [
        "# 9. Write a Python program to apply RandomizedSearchCV for tuning hyperparameters (C, penalty, solver) in\n",
        "# Logistic Regression. Print the best parameters and accuracy.\n",
        "\n",
        "from scipy.stats import uniform\n",
        "from sklearn.model_selection import RandomizedSearchCV\n",
        "param_dist = {\n",
        "    'C': uniform(0.01, 100),\n",
        "    'penalty': ['l1', 'l2'],\n",
        "    'solver': ['liblinear', 'saga']\n",
        "}\n",
        "\n",
        "classifier = LogisticRegression(max_iter=1000)\n",
        "random_search = RandomizedSearchCV(classifier, param_dist, n_iter=10, cv=5, scoring='accuracy', random_state=1)\n",
        "random_search.fit(x_train, y_train)\n",
        "\n",
        "best_params = random_search.best_params_\n",
        "best_accuracy = random_search.best_score_\n",
        "\n",
        "print(\"Best Parameters:\", best_params)\n",
        "print(\"Best Accuracy from RandomizedSearchCV:\", best_accuracy)\n",
        "\n",
        "y_pred = random_search.predict(x_test)\n",
        "test_accuracy = accuracy_score(y_test, y_pred)\n",
        "print(\"Test Accuracy with Best Parameters:\", test_accuracy)"
      ],
      "metadata": {
        "colab": {
          "base_uri": "https://localhost:8080/"
        },
        "id": "9rlCa8eVv3Fk",
        "outputId": "9b37ddab-e1f1-4e4b-e679-e6972dbe63f1"
      },
      "execution_count": 8,
      "outputs": [
        {
          "output_type": "stream",
          "name": "stdout",
          "text": [
            "Best Parameters: {'C': 41.7122004702574, 'penalty': 'l1', 'solver': 'liblinear'}\n",
            "Best Accuracy from RandomizedSearchCV: 1.0\n",
            "Test Accuracy with Best Parameters: 1.0\n"
          ]
        }
      ]
    },
    {
      "cell_type": "code",
      "source": [
        "# 10. Write a Python program to implement One-vs-One (OvO) Multiclass Logistic Regression and print accuracy.\n",
        "classifier = LogisticRegression(multi_class='multinomial', solver='lbfgs', max_iter=1000)\n",
        "classifier.fit(x_train, y_train)\n",
        "\n",
        "y_pred = classifier.predict(x_test)\n",
        "\n",
        "accuracy = accuracy_score(y_test, y_pred)\n",
        "print(\"Accuracy for One-vs-One (OvO) Multiclass Logistic Regression is:\", accuracy)"
      ],
      "metadata": {
        "colab": {
          "base_uri": "https://localhost:8080/"
        },
        "id": "aRm9QDcLv3It",
        "outputId": "a245322a-7e44-4735-b1ef-862ab1e129e0"
      },
      "execution_count": 9,
      "outputs": [
        {
          "output_type": "stream",
          "name": "stdout",
          "text": [
            "Accuracy for One-vs-One (OvO) Multiclass Logistic Regression is: 1.0\n"
          ]
        }
      ]
    },
    {
      "cell_type": "code",
      "source": [
        "# 11. Write a Python program to train a Logistic Regression model and visualize the confusion matrix for binary\n",
        "#      classification\n",
        "from sklearn.metrics import confusion_matrix, ConfusionMatrixDisplay\n",
        "\n",
        "classifier = LogisticRegression(max_iter=1000)\n",
        "classifier.fit(x_train, y_train)\n",
        "\n",
        "y_pred = classifier.predict(x_test)\n",
        "\n",
        "cm = confusion_matrix(y_test, y_pred)\n",
        "disp = ConfusionMatrixDisplay(confusion_matrix=cm)\n",
        "disp.plot()\n",
        "plt.title(\"Confusion Matrix for Binary Classification\")\n",
        "plt.show()"
      ],
      "metadata": {
        "colab": {
          "base_uri": "https://localhost:8080/",
          "height": 472
        },
        "id": "PtMLEkKAv3MI",
        "outputId": "fa83bf04-c5c4-4565-9e8a-bf6e5a6e3511"
      },
      "execution_count": 10,
      "outputs": [
        {
          "output_type": "display_data",
          "data": {
            "text/plain": [
              "<Figure size 640x480 with 2 Axes>"
            ],
            "image/png": "[encoded data removed]"
          },
          "metadata": {}
        }
      ]
    },
    {
      "cell_type": "code",
      "source": [
        "# 12. Write a Python program to train a Logistic Regression model and evaluate its performance using Precision,\n",
        "#     Recall, and F1-Score.\n",
        "from sklearn.metrics import precision_score, recall_score, f1_score\n",
        "classifier = LogisticRegression(max_iter=1000)\n",
        "classifier.fit(x_train, y_train)\n",
        "\n",
        "y_pred = classifier.predict(x_test)\n",
        "\n",
        "precision = precision_score(y_test, y_pred)\n",
        "recall = recall_score(y_test, y_pred)\n",
        "f1 = f1_score(y_test, y_pred)\n",
        "\n",
        "print(\"Precision:\", precision)\n",
        "print(\"Recall:\", recall)\n",
        "print(\"F1-Score:\", f1)"
      ],
      "metadata": {
        "id": "nyjKFogKx8Ve",
        "colab": {
          "base_uri": "https://localhost:8080/"
        },
        "outputId": "71275f65-8a4c-479d-96c8-1039d7005c9c"
      },
      "execution_count": 11,
      "outputs": [
        {
          "output_type": "stream",
          "name": "stdout",
          "text": [
            "Precision: 1.0\n",
            "Recall: 1.0\n",
            "F1-Score: 1.0\n"
          ]
        }
      ]
    },
    {
      "cell_type": "code",
      "source": [
        "# 13. Write a Python program to train a Logistic Regression model on imbalanced data and apply class weights to\n",
        "#      improve model performance\n",
        "\n",
        "accuracy = accuracy_score(y_test, y_pred)\n",
        "print(\"Accuracy with Class Weights:\", accuracy)"
      ],
      "metadata": {
        "colab": {
          "base_uri": "https://localhost:8080/"
        },
        "id": "UxLdePPFx8Xd",
        "outputId": "d074bf23-72fd-4c98-f285-7de9680d8294"
      },
      "execution_count": 12,
      "outputs": [
        {
          "output_type": "stream",
          "name": "stdout",
          "text": [
            "Accuracy with Class Weights: 1.0\n"
          ]
        }
      ]
    },
    {
      "cell_type": "code",
      "source": [
        "# 14. Write a Python program to train Logistic Regression on the Titanic dataset, handle missing values, and\n",
        "# evaluate performance\n",
        "from sklearn.impute import SimpleImputer\n",
        "\n",
        "df = pd.read_csv('titanic.csv')\n",
        "\n",
        "df = df[['Pclass', 'Sex', 'Age', 'SibSp', 'Parch', 'Fare', 'Survived']]\n",
        "df['Sex'] = df['Sex'].map({'male': 0, 'female': 1})\n",
        "\n",
        "imputer = SimpleImputer(strategy='mean')\n",
        "df['Age'] = imputer.fit_transform(df[['Age']])\n",
        "\n",
        "x = df.drop('Survived', axis=1)\n",
        "y = df['Survived']\n",
        "\n",
        "x_train, x_test, y_train, y_test = train_test_split(x, y, test_size=0.20, random_state=1)\n",
        "\n",
        "classifier = LogisticRegression(max_iter=1000)\n",
        "classifier.fit(x_train, y_train)\n",
        "\n",
        "y_pred = classifier.predict(x_test)\n",
        "\n",
        "accuracy = accuracy_score(y_test, y_pred)\n",
        "print(\"Accuracy on Titanic Dataset:\", accuracy)"
      ],
      "metadata": {
        "colab": {
          "base_uri": "https://localhost:8080/"
        },
        "id": "lC0_rcLHx8Zx",
        "outputId": "3be581c4-edcb-4665-83e1-8683fa5858aa"
      },
      "execution_count": 13,
      "outputs": [
        {
          "output_type": "stream",
          "name": "stdout",
          "text": [
            "Accuracy with Class Weights: 1.0\n"
          ]
        }
      ]
    },
    {
      "cell_type": "code",
      "source": [
        "# 15. Write a Python program to apply feature scaling (Standardization) before training a Logistic Regression\n",
        "#      model. Evaluate its accuracy and compare results with and without scaling.\n",
        "\n",
        "from sklearn.preprocessing import StandardScaler\n",
        "classifier = LogisticRegression(max_iter=1000)\n",
        "classifier.fit(x_train, y_train)\n",
        "\n",
        "y_pred = classifier.predict(x_test)\n",
        "accuracy_without_scaling = accuracy_score(y_test, y_pred)\n",
        "print(\"Accuracy without Feature Scaling:\", accuracy_without_scaling)\n",
        "\n",
        "scaler = StandardScaler()\n",
        "x_train_scaled = scaler.fit_transform(x_train)\n",
        "x_test_scaled = scaler.transform(x_test)\n",
        "\n",
        "classifier_scaled = LogisticRegression(max_iter=1000)\n",
        "classifier_scaled.fit(x_train_scaled, y_train)\n",
        "\n",
        "y_pred_scaled = classifier_scaled.predict(x_test_scaled)\n",
        "accuracy_with_scaling = accuracy_score(y_test, y_pred_scaled)\n",
        "print(\"Accuracy with Feature Scaling:\", accuracy_with_scaling)\n",
        "\n",
        "if accuracy_with_scaling > accuracy_without_scaling:\n",
        "    print(\"Feature Scaling improved accuracy.\")\n",
        "elif accuracy_with_scaling < accuracy_without_scaling:\n",
        "    print(\"Feature Scaling reduced accuracy.\")\n",
        "else:\n",
        "    print(\"Feature Scaling did not change accuracy.\")"
      ],
      "metadata": {
        "id": "cZxab0llx8fN",
        "colab": {
          "base_uri": "https://localhost:8080/"
        },
        "outputId": "be39d9e8-eff1-4a55-e2ad-87f6436876d4"
      },
      "execution_count": 15,
      "outputs": [
        {
          "output_type": "stream",
          "name": "stdout",
          "text": [
            "Accuracy without Feature Scaling: 1.0\n",
            "Accuracy with Feature Scaling: 1.0\n",
            "Feature Scaling did not change accuracy.\n"
          ]
        }
      ]
    },
    {
      "cell_type": "code",
      "source": [
        "# 16. Write a Python program to train Logistic Regression and evaluate its performance using ROC-AUC score.\n",
        "\n",
        "from sklearn.metrics import roc_auc_score\n",
        "\n",
        "y_pred_proba = classifier.predict_proba(x_test)[:, 1]\n",
        "roc_auc = roc_auc_score(y_test, y_pred_proba)\n",
        "\n",
        "print(\"ROC-AUC Score:\", roc_auc)"
      ],
      "metadata": {
        "colab": {
          "base_uri": "https://localhost:8080/"
        },
        "id": "bNoPTOCYN8Ok",
        "outputId": "120d0403-4101-4d22-84d6-cc9256f2e5db"
      },
      "execution_count": 16,
      "outputs": [
        {
          "output_type": "stream",
          "name": "stdout",
          "text": [
            "ROC-AUC Score: 1.0\n"
          ]
        }
      ]
    },
    {
      "cell_type": "code",
      "source": [
        "# 17.  Write a Python program to train Logistic Regression using a custom learning rate (C=0.5) and evaluate accuracy.\n",
        "from sklearn.metrics import accuracy_score\n",
        "classifier = LogisticRegression(C=0.5, max_iter=1000)\n",
        "classifier.fit(x_train, y_train)\n",
        "\n",
        "y_pred = classifier.predict(x_test)\n",
        "\n",
        "accuracy = accuracy_score(y_test, y_pred)\n",
        "print(\"Accuracy with Custom Learning Rate (C=0.5):\", accuracy)\n"
      ],
      "metadata": {
        "colab": {
          "base_uri": "https://localhost:8080/"
        },
        "id": "QHcYfjhSN8R1",
        "outputId": "8c5ae39f-1b1f-431a-bbe2-2c7206678cc5"
      },
      "execution_count": 17,
      "outputs": [
        {
          "output_type": "stream",
          "name": "stdout",
          "text": [
            "Accuracy with Custom Learning Rate (C=0.5): 1.0\n"
          ]
        }
      ]
    },
    {
      "cell_type": "code",
      "source": [
        "# 18. Write a Python program to train Logistic Regression and identify important features based on model coefficients.\n",
        "classifier = LogisticRegression(max_iter=1000)\n",
        "classifier.fit(x_train, y_train)\n",
        "\n",
        "coefficients = classifier.coef_[0]\n",
        "feature_importance = pd.DataFrame({'Feature': x.columns, 'Coefficient': coefficients})\n",
        "print(\"Feature Importance:\")\n",
        "print(feature_importance)"
      ],
      "metadata": {
        "colab": {
          "base_uri": "https://localhost:8080/"
        },
        "id": "5eeUA1MJN8VW",
        "outputId": "6075b303-f644-47be-9a57-ac5ad23d4fdc"
      },
      "execution_count": 18,
      "outputs": [
        {
          "output_type": "stream",
          "name": "stdout",
          "text": [
            "Feature Importance:\n",
            "             Feature  Coefficient\n",
            "0  sepal length (cm)     0.461004\n",
            "1   sepal width (cm)    -0.788366\n",
            "2  petal length (cm)     2.186249\n",
            "3   petal width (cm)     0.928657\n"
          ]
        }
      ]
    },
    {
      "cell_type": "code",
      "source": [
        "# 19. Write a Python program to train Logistic Regression and evaluate its performance using Cohen’s Kappa Score.\n",
        "from sklearn.metrics import cohen_kappa_score\n",
        "classifier = LogisticRegression(max_iter=1000)\n",
        "classifier.fit(x_train, y_train)\n",
        "\n",
        "y_pred = classifier.predict(x_test)\n",
        "\n",
        "kappa = cohen_kappa_score(y_test, y_pred)\n",
        "print(\"Cohen’s Kappa Score:\", kappa)"
      ],
      "metadata": {
        "colab": {
          "base_uri": "https://localhost:8080/"
        },
        "id": "j1Zcs_PHPtJF",
        "outputId": "454928a3-9c1c-4a20-eb1f-93a7ff9173ba"
      },
      "execution_count": 19,
      "outputs": [
        {
          "output_type": "stream",
          "name": "stdout",
          "text": [
            "Cohen’s Kappa Score: 1.0\n"
          ]
        }
      ]
    },
    {
      "cell_type": "code",
      "source": [
        "# 20. Write a Python program to train Logistic Regression and visualize the Precision-Recall Curve for binary classification.\n",
        "\n",
        "from sklearn.metrics import precision_recall_curve\n",
        "classifier = LogisticRegression(max_iter=1000)\n",
        "classifier.fit(x_train, y_train)\n",
        "\n",
        "y_pred_proba = classifier.predict_proba(x_test)[:, 1]\n",
        "precision, recall, _ = precision_recall_curve(y_test, y_pred_proba)\n",
        "\n",
        "plt.plot(recall, precision, marker='.')\n",
        "plt.xlabel('Recall')\n",
        "plt.ylabel('Precision')\n",
        "plt.title('Precision-Recall Curve')\n",
        "plt.show()"
      ],
      "metadata": {
        "colab": {
          "base_uri": "https://localhost:8080/",
          "height": 472
        },
        "id": "TwJ1DsMNPtMg",
        "outputId": "25157f97-ca3b-47e9-d771-f21cbafa352c"
      },
      "execution_count": 21,
      "outputs": [
        {
          "output_type": "display_data",
          "data": {
            "text/plain": [
              "<Figure size 640x480 with 1 Axes>"
            ],
            "image/png": "[encoded data removed]"
          },
          "metadata": {}
        }
      ]
    },
    {
      "cell_type": "code",
      "source": [
        "# 21. Write a Python program to train Logistic Regression with different solvers (liblinear, saga, lbfgs) and compare their accuracy.\n",
        "\n",
        "solvers = ['liblinear', 'saga', 'lbfgs']\n",
        "for solver in solvers:\n",
        "    classifier = LogisticRegression(solver=solver, max_iter=1000)\n",
        "    classifier.fit(x_train, y_train)\n",
        "    y_pred = classifier.predict(x_test)\n",
        "    accuracy = accuracy_score(y_test, y_pred)\n",
        "    print(f\"Accuracy with {solver} solver: {accuracy}\")"
      ],
      "metadata": {
        "colab": {
          "base_uri": "https://localhost:8080/"
        },
        "id": "g9SRB76MPtud",
        "outputId": "18a9e9e3-482b-4d39-f53e-e93ef76687d1"
      },
      "execution_count": 22,
      "outputs": [
        {
          "output_type": "stream",
          "name": "stdout",
          "text": [
            "Accuracy with liblinear solver: 1.0\n",
            "Accuracy with saga solver: 1.0\n",
            "Accuracy with lbfgs solver: 1.0\n"
          ]
        }
      ]
    },
    {
      "cell_type": "code",
      "source": [
        "# 22. Write a Python program to train Logistic Regression and evaluate its performance using Matthews\n",
        "# Correlation Coefficient (MCC).\n",
        "from sklearn.metrics import matthews_corrcoef\n",
        "classifier = LogisticRegression(max_iter=1000)\n",
        "classifier.fit(x_train, y_train)\n",
        "\n",
        "y_pred = classifier.predict(x_test)\n",
        "mcc = matthews_corrcoef(y_test, y_pred)\n",
        "print(\"Matthews Correlation Coefficient (MCC):\", mcc)"
      ],
      "metadata": {
        "colab": {
          "base_uri": "https://localhost:8080/"
        },
        "id": "GQW6shdsPt-n",
        "outputId": "5a049f0c-25e8-4e4b-e077-b0483aad9354"
      },
      "execution_count": 23,
      "outputs": [
        {
          "output_type": "stream",
          "name": "stdout",
          "text": [
            "Matthews Correlation Coefficient (MCC): 1.0\n"
          ]
        }
      ]
    },
    {
      "cell_type": "code",
      "source": [
        "# 23. Write a Python program to train Logistic Regression on both raw and standardized data. Compare their\n",
        "#      accuracy to see the impact of feature scaling.\n",
        "\n",
        "classifier = LogisticRegression(max_iter=1000)\n",
        "classifier.fit(x_train, y_train)\n",
        "\n",
        "y_pred = classifier.predict(x_test)\n",
        "accuracy_raw = accuracy_score(y_test, y_pred)\n",
        "print(\"Accuracy on Raw Data:\", accuracy_raw)\n",
        "\n",
        "scaler = StandardScaler()\n",
        "x_train_scaled = scaler.fit_transform(x_train)\n",
        "x_test_scaled = scaler.transform(x_test)\n",
        "\n",
        "classifier_scaled = LogisticRegression(max_iter=1000)\n",
        "classifier_scaled.fit(x_train_scaled, y_train)\n",
        "\n",
        "y_pred_scaled = classifier_scaled.predict(x_test_scaled)\n",
        "accuracy_scaled = accuracy_score(y_test, y_pred_scaled)\n",
        "print(\"Accuracy on Standardized Data:\", accuracy_scaled)"
      ],
      "metadata": {
        "colab": {
          "base_uri": "https://localhost:8080/"
        },
        "id": "w4KsuD3pYbOE",
        "outputId": "2c50e1b7-da40-44cb-c560-aa1b7902d27b"
      },
      "execution_count": 24,
      "outputs": [
        {
          "output_type": "stream",
          "name": "stdout",
          "text": [
            "Accuracy on Raw Data: 1.0\n",
            "Accuracy on Standardized Data: 1.0\n"
          ]
        }
      ]
    },
    {
      "cell_type": "code",
      "source": [
        "# 24. Write a Python program to train Logistic Regression and find the optimal C (regularization strength) using\n",
        "#      cross-validation.\n",
        "param_grid = {'C': [0.001, 0.01, 0.1, 1, 10, 100]}\n",
        "classifier = LogisticRegression(max_iter=1000)\n",
        "grid_search = GridSearchCV(classifier, param_grid, cv=5, scoring='accuracy')\n",
        "grid_search.fit(x_train, y_train)\n",
        "\n",
        "best_C = grid_search.best_params_['C']\n",
        "print(\"Optimal C (Regularization Strength):\", best_C)"
      ],
      "metadata": {
        "colab": {
          "base_uri": "https://localhost:8080/"
        },
        "id": "gOVG10h8YbRZ",
        "outputId": "acdaf570-aae8-4fd2-c2f3-e06ccb876b67"
      },
      "execution_count": 25,
      "outputs": [
        {
          "output_type": "stream",
          "name": "stdout",
          "text": [
            "Optimal C (Regularization Strength): 0.1\n"
          ]
        }
      ]
    },
    {
      "cell_type": "code",
      "source": [
        "# 25. Write a Python program to train Logistic Regression, save the trained model using joblib, and load it again to\n",
        "# make predictions.\n",
        "import joblib\n",
        "classifier = LogisticRegression(max_iter=1000)\n",
        "classifier.fit(x_train, y_train)\n",
        "\n",
        "joblib.dump(classifier, 'logistic_regression_model.pkl')\n",
        "\n",
        "loaded_model = joblib.load('logistic_regression_model.pkl')\n",
        "y_pred = loaded_model.predict(x_test)\n",
        "\n",
        "accuracy = accuracy_score(y_test, y_pred)\n",
        "print(\"Accuracy of Loaded Model:\", accuracy)"
      ],
      "metadata": {
        "colab": {
          "base_uri": "https://localhost:8080/"
        },
        "id": "IltMiqtEYwLt",
        "outputId": "e459c70e-a66e-432b-89da-3fd1298d5e27"
      },
      "execution_count": 28,
      "outputs": [
        {
          "output_type": "stream",
          "name": "stdout",
          "text": [
            "Accuracy of Loaded Model: 1.0\n"
          ]
        }
      ]
    },
    {
      "cell_type": "code",
      "source": [],
      "metadata": {
        "id": "YLwgF0FzY4sy"
      },
      "execution_count": null,
      "outputs": []
    }
  ]
}